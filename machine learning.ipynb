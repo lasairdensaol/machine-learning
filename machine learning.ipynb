{
 "cells": [
  {
   "cell_type": "code",
   "execution_count": 38,
   "metadata": {
    "collapsed": true
   },
   "outputs": [],
   "source": [
    "from sklearn import linear_model\n",
    "from sklearn.cross_validation import train_test_split\n",
    "import numpy as np\n",
    "import pandas as pd\n",
    "from sklearn.grid_search import GridSearchCV"
   ]
  },
  {
   "cell_type": "code",
   "execution_count": 51,
   "metadata": {
    "collapsed": true
   },
   "outputs": [],
   "source": [
    "p = r'D:\\test\\training_features.csv'"
   ]
  },
  {
   "cell_type": "code",
   "execution_count": 82,
   "metadata": {
    "collapsed": false
   },
   "outputs": [],
   "source": [
    "df = np.array( pd.read_csv(p, sep = '\\t'))\n",
    "X = df[:,:-1]\n",
    "#ind = X == 0\n",
    "#X[ind] = -1\n",
    "y = df[:,-1]"
   ]
  },
  {
   "cell_type": "code",
   "execution_count": 73,
   "metadata": {
    "collapsed": false
   },
   "outputs": [
    {
     "name": "stdout",
     "output_type": "stream",
     "text": [
      "(2100L, 8L) (2100L,)\n",
      "(900L, 8L) (900L,)\n"
     ]
    }
   ],
   "source": [
    "X_train, X_test, y_train, y_test = train_test_split(X, y, test_size=0.3)\n",
    "\n",
    "print X_train.shape, y_train.shape\n",
    "print X_test.shape, y_test.shape"
   ]
  },
  {
   "cell_type": "code",
   "execution_count": 74,
   "metadata": {
    "collapsed": false
   },
   "outputs": [
    {
     "data": {
      "text/plain": [
       "array([  1.00000000e-05,   1.12332403e-05,   1.26185688e-05,\n",
       "         1.41747416e-05,   1.59228279e-05,   1.78864953e-05,\n",
       "         2.00923300e-05,   2.25701972e-05,   2.53536449e-05,\n",
       "         2.84803587e-05,   3.19926714e-05,   3.59381366e-05,\n",
       "         4.03701726e-05,   4.53487851e-05,   5.09413801e-05,\n",
       "         5.72236766e-05,   6.42807312e-05,   7.22080902e-05,\n",
       "         8.11130831e-05,   9.11162756e-05,   1.02353102e-04,\n",
       "         1.14975700e-04,   1.29154967e-04,   1.45082878e-04,\n",
       "         1.62975083e-04,   1.83073828e-04,   2.05651231e-04,\n",
       "         2.31012970e-04,   2.59502421e-04,   2.91505306e-04,\n",
       "         3.27454916e-04,   3.67837977e-04,   4.13201240e-04,\n",
       "         4.64158883e-04,   5.21400829e-04,   5.85702082e-04,\n",
       "         6.57933225e-04,   7.39072203e-04,   8.30217568e-04,\n",
       "         9.32603347e-04,   1.04761575e-03,   1.17681195e-03,\n",
       "         1.32194115e-03,   1.48496826e-03,   1.66810054e-03,\n",
       "         1.87381742e-03,   2.10490414e-03,   2.36448941e-03,\n",
       "         2.65608778e-03,   2.98364724e-03,   3.35160265e-03,\n",
       "         3.76493581e-03,   4.22924287e-03,   4.75081016e-03,\n",
       "         5.33669923e-03,   5.99484250e-03,   6.73415066e-03,\n",
       "         7.56463328e-03,   8.49753436e-03,   9.54548457e-03,\n",
       "         1.07226722e-02,   1.20450354e-02,   1.35304777e-02,\n",
       "         1.51991108e-02,   1.70735265e-02,   1.91791026e-02,\n",
       "         2.15443469e-02,   2.42012826e-02,   2.71858824e-02,\n",
       "         3.05385551e-02,   3.43046929e-02,   3.85352859e-02,\n",
       "         4.32876128e-02,   4.86260158e-02,   5.46227722e-02,\n",
       "         6.13590727e-02,   6.89261210e-02,   7.74263683e-02,\n",
       "         8.69749003e-02,   9.77009957e-02,   1.09749877e-01,\n",
       "         1.23284674e-01,   1.38488637e-01,   1.55567614e-01,\n",
       "         1.74752840e-01,   1.96304065e-01,   2.20513074e-01,\n",
       "         2.47707636e-01,   2.78255940e-01,   3.12571585e-01,\n",
       "         3.51119173e-01,   3.94420606e-01,   4.43062146e-01,\n",
       "         4.97702356e-01,   5.59081018e-01,   6.28029144e-01,\n",
       "         7.05480231e-01,   7.92482898e-01,   8.90215085e-01,\n",
       "         1.00000000e+00])"
      ]
     },
     "execution_count": 74,
     "metadata": {},
     "output_type": "execute_result"
    }
   ],
   "source": [
    "t = np.logspace(-5,0,100)\n",
    "t"
   ]
  },
  {
   "cell_type": "code",
   "execution_count": 75,
   "metadata": {
    "collapsed": false
   },
   "outputs": [
    {
     "name": "stdout",
     "output_type": "stream",
     "text": [
      "Wall time: 2.88 s\n",
      "0.550766133836\n",
      "LogisticRegression(C=0.010722672220103232, class_weight=None, dual=False,\n",
      "          fit_intercept=True, intercept_scaling=1, max_iter=100,\n",
      "          multi_class='ovr', n_jobs=1, penalty='l2', random_state=None,\n",
      "          solver='liblinear', tol=0.0001, verbose=0, warm_start=False)\n"
     ]
    }
   ],
   "source": [
    "params = {'C': t}\n",
    "grid_searcher = GridSearchCV(linear_model.LogisticRegression(), params, cv=10, scoring='roc_auc', n_jobs=3)\n",
    "%time grid_searcher.fit(X_train, y_train)\n",
    " \n",
    "print grid_searcher.best_score_\n",
    "print grid_searcher.best_estimator_"
   ]
  },
  {
   "cell_type": "code",
   "execution_count": 48,
   "metadata": {
    "collapsed": false
   },
   "outputs": [
    {
     "name": "stdout",
     "output_type": "stream",
     "text": [
      "0.547205165999\n",
      "RandomForestClassifier(bootstrap=True, class_weight=None, criterion='gini',\n",
      "            max_depth=4, max_features=1, max_leaf_nodes=4,\n",
      "            min_samples_leaf=2, min_samples_split=2,\n",
      "            min_weight_fraction_leaf=0.0, n_estimators=4000, n_jobs=1,\n",
      "            oob_score=False, random_state=3174585, verbose=0,\n",
      "            warm_start=False)\n"
     ]
    }
   ],
   "source": [
    "from sklearn.ensemble import RandomForestClassifier as RFC\n",
    "from sklearn.metrics import roc_auc_score\n",
    "from sklearn.preprocessing import scale\n",
    "\n",
    "params = {'n_estimators': [4000],'bootstrap':[True], 'max_depth':[4,5], 'random_state':[np.random.randint(1,10000000)], \\\n",
    "          'max_features':[1,2,3], 'max_leaf_nodes':[4,5], 'min_samples_split':[2], 'min_samples_leaf':[2]}\n",
    "grid_searcher = GridSearchCV(RFC(), params, cv=5, scoring='roc_auc', n_jobs=3)\n",
    "grid_searcher.fit(X_train, y_train)\n",
    "\n",
    "print grid_searcher.best_score_\n",
    "print grid_searcher.best_estimator_"
   ]
  },
  {
   "cell_type": "code",
   "execution_count": 76,
   "metadata": {
    "collapsed": false
   },
   "outputs": [
    {
     "name": "stdout",
     "output_type": "stream",
     "text": [
      "0.578046050633\n",
      "KNeighborsClassifier(algorithm='auto', leaf_size=30, metric='minkowski',\n",
      "           metric_params=None, n_jobs=1, n_neighbors=13, p=2,\n",
      "           weights='distance')\n"
     ]
    }
   ],
   "source": [
    "from sklearn.neighbors import KNeighborsClassifier as KNN\n",
    "\n",
    "params = {'n_neighbors': range(1, 20, 2), 'weights' : ['distance']}\n",
    "grid_searcher = GridSearchCV(KNN(), params, cv=5, scoring='roc_auc', n_jobs=3)\n",
    "grid_searcher.fit(X_train, y_train)\n",
    "\n",
    "print grid_searcher.best_score_\n",
    "print grid_searcher.best_estimator_"
   ]
  },
  {
   "cell_type": "code",
   "execution_count": 77,
   "metadata": {
    "collapsed": false
   },
   "outputs": [],
   "source": [
    "logreg = linear_model.LogisticRegression(C=1e5)\n",
    "logreg.fit(X_train, y_train)\n",
    "Z = logreg.predict_proba(X_test)[:,1]\n"
   ]
  },
  {
   "cell_type": "code",
   "execution_count": 78,
   "metadata": {
    "collapsed": false
   },
   "outputs": [
    {
     "data": {
      "text/plain": [
       "0.53381384851672431"
      ]
     },
     "execution_count": 78,
     "metadata": {},
     "output_type": "execute_result"
    }
   ],
   "source": [
    "from sklearn.metrics import accuracy_score\n",
    "#accuracy_score(y_test, Z)\n",
    "roc_auc_score(y_test, Z)"
   ]
  },
  {
   "cell_type": "code",
   "execution_count": 79,
   "metadata": {
    "collapsed": false
   },
   "outputs": [
    {
     "name": "stdout",
     "output_type": "stream",
     "text": [
      "[0 1 0 0 0 1 1 1 0 1 1 1 1 1 1 1 0 1 1 1]\n",
      "[ 0.52941316  0.45161764  0.55571666  0.48613137  0.56261305  0.46230183\n",
      "  0.5172001   0.81761469  0.54822136  0.46578095  0.51487103  0.54475439\n",
      "  0.55744288  0.44496791  0.56433348  0.39900576  0.45477678  0.43354813\n",
      "  0.51137623  0.38316121]\n"
     ]
    }
   ],
   "source": [
    "print y_test[:20]\n",
    "print Z[:20]"
   ]
  },
  {
   "cell_type": "code",
   "execution_count": null,
   "metadata": {
    "collapsed": true
   },
   "outputs": [],
   "source": []
  }
 ],
 "metadata": {
  "kernelspec": {
   "display_name": "Python 2",
   "language": "python",
   "name": "python2"
  },
  "language_info": {
   "codemirror_mode": {
    "name": "ipython",
    "version": 2
   },
   "file_extension": ".py",
   "mimetype": "text/x-python",
   "name": "python",
   "nbconvert_exporter": "python",
   "pygments_lexer": "ipython2",
   "version": "2.7.11"
  }
 },
 "nbformat": 4,
 "nbformat_minor": 0
}
